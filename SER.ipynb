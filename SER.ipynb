{
  "nbformat": 4,
  "nbformat_minor": 0,
  "metadata": {
    "colab": {
      "provenance": [],
      "machine_shape": "hm",
      "gpuType": "L4"
    },
    "kernelspec": {
      "name": "python3",
      "display_name": "Python 3"
    },
    "language_info": {
      "name": "python"
    },
    "accelerator": "GPU"
  },
  "cells": [
    {
      "cell_type": "code",
      "execution_count": null,
      "metadata": {
        "colab": {
          "base_uri": "https://localhost:8080/"
        },
        "id": "xzCJGTo3t8r1",
        "outputId": "f53c6827-8cde-4d40-96e0-173ac92a2c50"
      },
      "outputs": [
        {
          "output_type": "stream",
          "name": "stdout",
          "text": [
            "Requirement already satisfied: librosa in /usr/local/lib/python3.11/dist-packages (0.10.2.post1)\n",
            "Requirement already satisfied: soundfile in /usr/local/lib/python3.11/dist-packages (0.13.1)\n",
            "Requirement already satisfied: numpy in /usr/local/lib/python3.11/dist-packages (1.26.4)\n",
            "Requirement already satisfied: scikit-learn in /usr/local/lib/python3.11/dist-packages (1.6.1)\n",
            "Requirement already satisfied: seaborn in /usr/local/lib/python3.11/dist-packages (0.13.2)\n",
            "Requirement already satisfied: matplotlib in /usr/local/lib/python3.11/dist-packages (3.10.0)\n",
            "Requirement already satisfied: audioread>=2.1.9 in /usr/local/lib/python3.11/dist-packages (from librosa) (3.0.1)\n",
            "Requirement already satisfied: scipy>=1.2.0 in /usr/local/lib/python3.11/dist-packages (from librosa) (1.14.1)\n",
            "Requirement already satisfied: joblib>=0.14 in /usr/local/lib/python3.11/dist-packages (from librosa) (1.4.2)\n",
            "Requirement already satisfied: decorator>=4.3.0 in /usr/local/lib/python3.11/dist-packages (from librosa) (4.4.2)\n",
            "Requirement already satisfied: numba>=0.51.0 in /usr/local/lib/python3.11/dist-packages (from librosa) (0.60.0)\n",
            "Requirement already satisfied: pooch>=1.1 in /usr/local/lib/python3.11/dist-packages (from librosa) (1.8.2)\n",
            "Requirement already satisfied: soxr>=0.3.2 in /usr/local/lib/python3.11/dist-packages (from librosa) (0.5.0.post1)\n",
            "Requirement already satisfied: typing-extensions>=4.1.1 in /usr/local/lib/python3.11/dist-packages (from librosa) (4.12.2)\n",
            "Requirement already satisfied: lazy-loader>=0.1 in /usr/local/lib/python3.11/dist-packages (from librosa) (0.4)\n",
            "Requirement already satisfied: msgpack>=1.0 in /usr/local/lib/python3.11/dist-packages (from librosa) (1.1.0)\n",
            "Requirement already satisfied: cffi>=1.0 in /usr/local/lib/python3.11/dist-packages (from soundfile) (1.17.1)\n",
            "Requirement already satisfied: threadpoolctl>=3.1.0 in /usr/local/lib/python3.11/dist-packages (from scikit-learn) (3.5.0)\n",
            "Requirement already satisfied: pandas>=1.2 in /usr/local/lib/python3.11/dist-packages (from seaborn) (2.2.2)\n",
            "Requirement already satisfied: contourpy>=1.0.1 in /usr/local/lib/python3.11/dist-packages (from matplotlib) (1.3.1)\n",
            "Requirement already satisfied: cycler>=0.10 in /usr/local/lib/python3.11/dist-packages (from matplotlib) (0.12.1)\n",
            "Requirement already satisfied: fonttools>=4.22.0 in /usr/local/lib/python3.11/dist-packages (from matplotlib) (4.56.0)\n",
            "Requirement already satisfied: kiwisolver>=1.3.1 in /usr/local/lib/python3.11/dist-packages (from matplotlib) (1.4.8)\n",
            "Requirement already satisfied: packaging>=20.0 in /usr/local/lib/python3.11/dist-packages (from matplotlib) (24.2)\n",
            "Requirement already satisfied: pillow>=8 in /usr/local/lib/python3.11/dist-packages (from matplotlib) (11.1.0)\n",
            "Requirement already satisfied: pyparsing>=2.3.1 in /usr/local/lib/python3.11/dist-packages (from matplotlib) (3.2.1)\n",
            "Requirement already satisfied: python-dateutil>=2.7 in /usr/local/lib/python3.11/dist-packages (from matplotlib) (2.8.2)\n",
            "Requirement already satisfied: pycparser in /usr/local/lib/python3.11/dist-packages (from cffi>=1.0->soundfile) (2.22)\n",
            "Requirement already satisfied: llvmlite<0.44,>=0.43.0dev0 in /usr/local/lib/python3.11/dist-packages (from numba>=0.51.0->librosa) (0.43.0)\n",
            "Requirement already satisfied: pytz>=2020.1 in /usr/local/lib/python3.11/dist-packages (from pandas>=1.2->seaborn) (2025.1)\n",
            "Requirement already satisfied: tzdata>=2022.7 in /usr/local/lib/python3.11/dist-packages (from pandas>=1.2->seaborn) (2025.1)\n",
            "Requirement already satisfied: platformdirs>=2.5.0 in /usr/local/lib/python3.11/dist-packages (from pooch>=1.1->librosa) (4.3.6)\n",
            "Requirement already satisfied: requests>=2.19.0 in /usr/local/lib/python3.11/dist-packages (from pooch>=1.1->librosa) (2.32.3)\n",
            "Requirement already satisfied: six>=1.5 in /usr/local/lib/python3.11/dist-packages (from python-dateutil>=2.7->matplotlib) (1.17.0)\n",
            "Requirement already satisfied: charset-normalizer<4,>=2 in /usr/local/lib/python3.11/dist-packages (from requests>=2.19.0->pooch>=1.1->librosa) (3.4.1)\n",
            "Requirement already satisfied: idna<4,>=2.5 in /usr/local/lib/python3.11/dist-packages (from requests>=2.19.0->pooch>=1.1->librosa) (3.10)\n",
            "Requirement already satisfied: urllib3<3,>=1.21.1 in /usr/local/lib/python3.11/dist-packages (from requests>=2.19.0->pooch>=1.1->librosa) (2.3.0)\n",
            "Requirement already satisfied: certifi>=2017.4.17 in /usr/local/lib/python3.11/dist-packages (from requests>=2.19.0->pooch>=1.1->librosa) (2025.1.31)\n"
          ]
        }
      ],
      "source": [
        "!pip install librosa soundfile numpy scikit-learn seaborn matplotlib"
      ]
    },
    {
      "cell_type": "code",
      "source": [
        "from google.colab import drive\n",
        "drive.mount('/content/drive', force_remount=True)\n",
        "\n",
        "# Define dataset path\n",
        "DATASET_PATH = \"/content/drive/My Drive/SER/speech-emotion-recognition-ravdess-data\""
      ],
      "metadata": {
        "colab": {
          "base_uri": "https://localhost:8080/"
        },
        "id": "roDZ3czouB_n",
        "outputId": "af491331-301f-4b35-b6a4-4734f38ea4ab"
      },
      "execution_count": null,
      "outputs": [
        {
          "output_type": "stream",
          "name": "stdout",
          "text": [
            "Mounted at /content/drive\n"
          ]
        }
      ]
    },
    {
      "cell_type": "code",
      "source": [
        "import tensorflow as tf\n",
        "import torch\n",
        "\n",
        "# Check TensorFlow GPU\n",
        "if tf.config.list_physical_devices('GPU'):\n",
        "    print(\"TensorFlow GPU is available.\")\n",
        "    print(tf.config.list_physical_devices('GPU'))\n",
        "else:\n",
        "    print(\"No TensorFlow GPU detected. Running on CPU.\")\n",
        "\n",
        "# Check PyTorch GPU\n",
        "if torch.cuda.is_available():\n",
        "    print(f\"PyTorch is using GPU: {torch.cuda.get_device_name(0)}\")\n",
        "else:\n",
        "    print(\"No PyTorch GPU detected. Running on CPU.\")"
      ],
      "metadata": {
        "colab": {
          "base_uri": "https://localhost:8080/"
        },
        "id": "SBCJad4zuMc2",
        "outputId": "34e6ede2-999b-4d7b-dcc0-4bcaf26da6b9"
      },
      "execution_count": null,
      "outputs": [
        {
          "output_type": "stream",
          "name": "stdout",
          "text": [
            "TensorFlow GPU is available.\n",
            "[PhysicalDevice(name='/physical_device:GPU:0', device_type='GPU')]\n",
            "PyTorch is using GPU: NVIDIA L4\n"
          ]
        }
      ]
    },
    {
      "cell_type": "code",
      "source": [
        "import numpy as np\n",
        "import librosa\n",
        "import soundfile\n",
        "\n",
        "# Function to extract features from an audio file\n",
        "def extract_feature(file_name, mfcc=True, chroma=True, mel=True):\n",
        "    with soundfile.SoundFile(file_name) as sound_file:\n",
        "        X = sound_file.read(dtype=\"float32\")\n",
        "        sample_rate = sound_file.samplerate\n",
        "        result = np.array([])\n",
        "\n",
        "        if mfcc:\n",
        "            mfccs = librosa.feature.mfcc(y=X, sr=sample_rate, n_mfcc=40)\n",
        "            result = np.hstack((result, np.mean(mfccs.T, axis=0)))\n",
        "\n",
        "        if chroma:\n",
        "            stft = np.abs(librosa.stft(X))\n",
        "            chroma = librosa.feature.chroma_stft(S=stft, sr=sample_rate)\n",
        "            result = np.hstack((result, np.mean(chroma.T, axis=0)))\n",
        "\n",
        "        if mel:\n",
        "            mel = librosa.feature.melspectrogram(y=X, sr=sample_rate)\n",
        "            result = np.hstack((result, np.mean(mel.T, axis=0)))\n",
        "\n",
        "    return result\n"
      ],
      "metadata": {
        "id": "JeSDYbCAuzMK"
      },
      "execution_count": null,
      "outputs": []
    },
    {
      "cell_type": "code",
      "source": [
        "import os\n",
        "import glob\n",
        "from sklearn.model_selection import train_test_split\n",
        "\n",
        "# Emotion labels based on RAVDESS file naming convention\n",
        "emotions = {\n",
        "    '01': 'neutral', '02': 'calm', '03': 'happy', '04': 'sad',\n",
        "    '05': 'angry', '06': 'fearful', '07': 'disgust', '08': 'surprised'\n",
        "}\n",
        "\n",
        "# Select emotions to recognize\n",
        "observed_emotions = ['calm', 'happy', 'fearful', 'disgust']\n",
        "\n",
        "def load_data(test_size=0.2):\n",
        "    x, y = [], []\n",
        "\n",
        "    # Scan all WAV files in dataset\n",
        "    for file in glob.glob(f\"{DATASET_PATH}/Actor_*/*.wav\"):\n",
        "        file_name = os.path.basename(file)\n",
        "        emotion = emotions[file_name.split(\"-\")[2]]  # Extract emotion label\n",
        "\n",
        "        if emotion not in observed_emotions:\n",
        "            continue  # Skip unwanted emotions\n",
        "\n",
        "        feature = extract_feature(file)\n",
        "        x.append(feature)\n",
        "        y.append(emotion)\n",
        "\n",
        "    return train_test_split(np.array(x), y, test_size=test_size, random_state=9)\n",
        "\n",
        "# Load dataset\n",
        "x_train, x_test, y_train, y_test = load_data(test_size=0.25)\n",
        "print(f\"Dataset Loaded: {len(x_train)} training samples, {len(x_test)} test samples\")\n"
      ],
      "metadata": {
        "colab": {
          "base_uri": "https://localhost:8080/"
        },
        "id": "UuIpJ9EGu2kM",
        "outputId": "2b5ddb47-ebc2-4e51-e657-e35e463cfc54"
      },
      "execution_count": null,
      "outputs": [
        {
          "output_type": "stream",
          "name": "stdout",
          "text": [
            "Dataset Loaded: 576 training samples, 192 test samples\n"
          ]
        }
      ]
    },
    {
      "cell_type": "code",
      "source": [
        "from sklearn.neural_network import MLPClassifier\n",
        "from sklearn.metrics import accuracy_score\n",
        "\n",
        "# Initialize MLP model\n",
        "model = MLPClassifier(alpha=0.01, batch_size=256, epsilon=1e-08,\n",
        "                      hidden_layer_sizes=(300,), learning_rate='adaptive', max_iter=500)\n",
        "\n",
        "# Train model\n",
        "model.fit(x_train, y_train)\n",
        "\n",
        "# Predict emotions\n",
        "y_pred = model.predict(x_test)\n",
        "\n",
        "# Calculate accuracy\n",
        "accuracy = accuracy_score(y_test, y_pred)\n",
        "print(f\"Model Accuracy: {accuracy * 100:.2f}%\")\n"
      ],
      "metadata": {
        "colab": {
          "base_uri": "https://localhost:8080/"
        },
        "id": "6itOeVu-u55I",
        "outputId": "0cf81a80-4f3a-4995-9d93-86f015a44bee"
      },
      "execution_count": null,
      "outputs": [
        {
          "output_type": "stream",
          "name": "stdout",
          "text": [
            "Model Accuracy: 78.12%\n"
          ]
        }
      ]
    },
    {
      "cell_type": "code",
      "source": [
        "from sklearn.metrics import classification_report, confusion_matrix\n",
        "import seaborn as sns\n",
        "import matplotlib.pyplot as plt\n",
        "\n",
        "# Display classification report\n",
        "print(classification_report(y_test, y_pred))\n",
        "\n",
        "# Confusion matrix\n",
        "plt.figure(figsize=(8,6))\n",
        "sns.heatmap(confusion_matrix(y_test, y_pred), annot=True, fmt='d', cmap='Blues',\n",
        "            xticklabels=observed_emotions, yticklabels=observed_emotions)\n",
        "plt.xlabel(\"Predicted\")\n",
        "plt.ylabel(\"Actual\")\n",
        "plt.title(\"Confusion Matrix\")\n",
        "plt.show()\n"
      ],
      "metadata": {
        "colab": {
          "base_uri": "https://localhost:8080/",
          "height": 755
        },
        "id": "722RjRp4vIK6",
        "outputId": "f9892889-13e6-463b-ba33-b0097e5ff2e4"
      },
      "execution_count": null,
      "outputs": [
        {
          "output_type": "stream",
          "name": "stdout",
          "text": [
            "              precision    recall  f1-score   support\n",
            "\n",
            "        calm       0.88      0.81      0.85        54\n",
            "     disgust       0.70      0.68      0.69        38\n",
            "     fearful       0.74      0.81      0.77        48\n",
            "       happy       0.79      0.79      0.79        52\n",
            "\n",
            "    accuracy                           0.78       192\n",
            "   macro avg       0.78      0.77      0.78       192\n",
            "weighted avg       0.78      0.78      0.78       192\n",
            "\n"
          ]
        },
        {
          "output_type": "display_data",
          "data": {
            "text/plain": [
              "<Figure size 800x600 with 2 Axes>"
            ],
            "image/png": "[encoded data removed]"
          },
          "metadata": {}
        }
      ]
    },
    {
      "cell_type": "code",
      "source": [
        "import joblib\n",
        "\n",
        "# Save the trained model using joblib\n",
        "model_filename = \"/content/drive/My Drive/SER/speech_emotion_recognition_model.joblib\"\n",
        "joblib.dump(model, model_filename)\n",
        "\n",
        "print(f\"Model saved successfully at: {model_filename}\")"
      ],
      "metadata": {
        "colab": {
          "base_uri": "https://localhost:8080/"
        },
        "id": "yQGzxcLN0r5w",
        "outputId": "96b6bb70-a657-42dc-8c2c-427580756af0"
      },
      "execution_count": null,
      "outputs": [
        {
          "output_type": "stream",
          "name": "stdout",
          "text": [
            "Model saved successfully at: /content/drive/My Drive/SER/speech_emotion_recognition_model.joblib\n"
          ]
        }
      ]
    },
    {
      "cell_type": "code",
      "source": [
        "# Load the saved model\n",
        "loaded_model = joblib.load(model_filename)\n",
        "\n",
        "# Test the loaded model\n",
        "sample_prediction = loaded_model.predict(x_test[:5])\n",
        "print(\"Sample Predictions:\", sample_prediction)\n",
        "print(\"Actual Labels:\", y_test[:5])"
      ],
      "metadata": {
        "colab": {
          "base_uri": "https://localhost:8080/"
        },
        "id": "eOdJ6hCE48tP",
        "outputId": "7b2b44d9-8c2c-4e35-c16c-0c3884188371"
      },
      "execution_count": null,
      "outputs": [
        {
          "output_type": "stream",
          "name": "stdout",
          "text": [
            "Sample Predictions: ['calm' 'fearful' 'happy' 'fearful' 'disgust']\n",
            "Actual Labels: ['disgust', 'happy', 'happy', 'happy', 'disgust']\n"
          ]
        }
      ]
    }
  ]
}